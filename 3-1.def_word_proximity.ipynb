{
 "cells": [
  {
   "cell_type": "code",
   "execution_count": 5,
   "metadata": {},
   "outputs": [],
   "source": [
    "import konlp\n",
    "from gensim.models import Word2Vec\n",
    "from konlpy.tag import *\n",
    "import numpy as np\n",
    "import matplotlib.pyplot as plt\n",
    "hannanum=Hannanum()\n"
   ]
  },
  {
   "cell_type": "code",
   "execution_count": 2,
   "metadata": {},
   "outputs": [],
   "source": [
    "def comment_proxi(comments):\n",
    "    model=Word2Vec(comments)\n",
    "    res=hannanum.nouns(comments)\n",
    "    rn=np.expand_dims(res,axis=1)\n",
    "    model= Word2Vec(rn,min_count=1,size=3)\n",
    "    comment_model=model.wv.most_similar('#냉동삼겹살')  #tag keyword\n",
    "    return comment_model"
   ]
  },
  {
   "cell_type": "code",
   "execution_count": 3,
   "metadata": {},
   "outputs": [],
   "source": [
    "comments='요번엔 빨리내려온 이랑 이틀연속 저녁같은 야식먹기 먹고 기능시험준비 ㅋ ㅋ 첫날 먹엇던 간단하게 먹은 비빔밥과 소고기국면은 가격대비 굿굿 둘쨋날먹은 냉삼집도 평타침 ㅋㅋ 원래는 냉삼이 9000원에 내려서5900이라는데 9000원일적 가격은 좀 오버인듯 ㅎ 잘먹었습니다 #맛스타그램 #먹스타그램 #먹방스타그램 #먹방 #부산 #서면 #범일동 #멸치국수2500 #비빔밥 #소고기국면 #소고기국 #서삼집 #서면삼겹살맛집 #냉삼 #냉동삼겹살 #비빔면 #럽스타그램 등촌역 북촌서서갈비 고기가 땡겨서 방문했어요 7가지 종류를 무한리필 해준다고 전 냉삼을 왜 먹는지 아직 잘 모르겠는데 여기 메뉴에 냉삼이 있어서 재밌게 구워먹었어요 기본찬도 좋고 친절하고 고기는 무한리필고기지만요 그래도 즐겁고 배부르게 식사했어요ㅎㅎ #서서갈비 #북촌서서갈비 #무한리필 #무한리필맛집 #고기무한리필 #냉삼 #냉삼맛집 #냉동삼겹살 #냉동삼겹살맛집 #삼겹살맛집 #양념갈비 #돼지갈비맛집 #고기집 #등촌역맛집 #등촌동맛집 #증미역맛집 #목동맛집 #강서구맛집 #먹스타그램 #맛스타그램 #맛집추천'"
   ]
  },
  {
   "cell_type": "code",
   "execution_count": 4,
   "metadata": {},
   "outputs": [
    {
     "data": {
      "text/plain": [
       "[('#냉삼맛집', 0.9955669641494751),\n",
       " ('요번', 0.9918242692947388),\n",
       " ('고', 0.991634726524353),\n",
       " ('북촌서서갈비', 0.9753425717353821),\n",
       " ('#맛스타그램', 0.9563799500465393),\n",
       " ('#강서구맛집', 0.9219471216201782),\n",
       " ('#북촌서서갈비', 0.9177985787391663),\n",
       " ('ㅋ', 0.9135041236877441),\n",
       " ('#먹스타그램', 0.8016707897186279),\n",
       " ('#냉동삼겹살맛집', 0.7910926938056946)]"
      ]
     },
     "execution_count": 4,
     "metadata": {},
     "output_type": "execute_result"
    }
   ],
   "source": [
    "comment_proxi(comments)"
   ]
  }
 ],
 "metadata": {
  "kernelspec": {
   "display_name": "Python 3",
   "language": "python",
   "name": "python3"
  },
  "language_info": {
   "codemirror_mode": {
    "name": "ipython",
    "version": 3
   },
   "file_extension": ".py",
   "mimetype": "text/x-python",
   "name": "python",
   "nbconvert_exporter": "python",
   "pygments_lexer": "ipython3",
   "version": "3.7.4"
  }
 },
 "nbformat": 4,
 "nbformat_minor": 2
}
